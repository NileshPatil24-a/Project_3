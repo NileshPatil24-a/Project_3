{
 "cells": [
  {
   "cell_type": "code",
   "execution_count": 2,
   "id": "112d9f96-b36e-4d23-bccd-8560c7ee172c",
   "metadata": {},
   "outputs": [],
   "source": [
    "import pandas as pd \n",
    "import numpy as np \n",
    "import seaborn as sns \n",
    "import matplotlib.pyplot as plt \n"
   ]
  },
  {
   "cell_type": "code",
   "execution_count": 3,
   "id": "b5a5e8f4-426d-478f-b718-6e4eb8b8de5a",
   "metadata": {},
   "outputs": [],
   "source": [
    "df = pd.read_csv(\"./final_dataset/Colleges_final_data_1.csv\")"
   ]
  },
  {
   "cell_type": "code",
   "execution_count": 4,
   "id": "e5ad959d-b5e7-4f18-a9eb-b6f77d7bf3ec",
   "metadata": {},
   "outputs": [
    {
     "data": {
      "text/html": [
       "<div>\n",
       "<style scoped>\n",
       "    .dataframe tbody tr th:only-of-type {\n",
       "        vertical-align: middle;\n",
       "    }\n",
       "\n",
       "    .dataframe tbody tr th {\n",
       "        vertical-align: top;\n",
       "    }\n",
       "\n",
       "    .dataframe thead th {\n",
       "        text-align: right;\n",
       "    }\n",
       "</style>\n",
       "<table border=\"1\" class=\"dataframe\">\n",
       "  <thead>\n",
       "    <tr style=\"text-align: right;\">\n",
       "      <th></th>\n",
       "      <th>College_Code</th>\n",
       "      <th>College_Name</th>\n",
       "      <th>Branch_Code</th>\n",
       "      <th>Branch_Name</th>\n",
       "      <th>Cutoff_Merit_No</th>\n",
       "      <th>Cutoff_Percentile</th>\n",
       "    </tr>\n",
       "  </thead>\n",
       "  <tbody>\n",
       "    <tr>\n",
       "      <th>0</th>\n",
       "      <td>1002</td>\n",
       "      <td>Government College of Engineering, Amravati</td>\n",
       "      <td>100219110</td>\n",
       "      <td>Civil Engineering</td>\n",
       "      <td>39713</td>\n",
       "      <td>88.248475</td>\n",
       "    </tr>\n",
       "    <tr>\n",
       "      <th>1</th>\n",
       "      <td>1002</td>\n",
       "      <td>Government College of Engineering, Amravati</td>\n",
       "      <td>100219110</td>\n",
       "      <td>Civil Engineering</td>\n",
       "      <td>41066</td>\n",
       "      <td>87.915931</td>\n",
       "    </tr>\n",
       "    <tr>\n",
       "      <th>2</th>\n",
       "      <td>1002</td>\n",
       "      <td>Government College of Engineering, Amravati</td>\n",
       "      <td>100219110</td>\n",
       "      <td>Civil Engineering</td>\n",
       "      <td>49772</td>\n",
       "      <td>85.113912</td>\n",
       "    </tr>\n",
       "    <tr>\n",
       "      <th>3</th>\n",
       "      <td>1002</td>\n",
       "      <td>Government College of Engineering, Amravati</td>\n",
       "      <td>100219110</td>\n",
       "      <td>Civil Engineering</td>\n",
       "      <td>44576</td>\n",
       "      <td>86.682749</td>\n",
       "    </tr>\n",
       "    <tr>\n",
       "      <th>4</th>\n",
       "      <td>1002</td>\n",
       "      <td>Government College of Engineering, Amravati</td>\n",
       "      <td>100219110</td>\n",
       "      <td>Civil Engineering</td>\n",
       "      <td>70376</td>\n",
       "      <td>78.434257</td>\n",
       "    </tr>\n",
       "    <tr>\n",
       "      <th>...</th>\n",
       "      <td>...</td>\n",
       "      <td>...</td>\n",
       "      <td>...</td>\n",
       "      <td>...</td>\n",
       "      <td>...</td>\n",
       "      <td>...</td>\n",
       "    </tr>\n",
       "    <tr>\n",
       "      <th>117731</th>\n",
       "      <td>16357</td>\n",
       "      <td>MES MUKUNDDAS LOHIA COLLEGE OF ENGINEERING</td>\n",
       "      <td>1635791110</td>\n",
       "      <td>Computer Science and Engineering(Artificial In...</td>\n",
       "      <td>126756</td>\n",
       "      <td>55.492299</td>\n",
       "    </tr>\n",
       "    <tr>\n",
       "      <th>117732</th>\n",
       "      <td>16357</td>\n",
       "      <td>MES MUKUNDDAS LOHIA COLLEGE OF ENGINEERING</td>\n",
       "      <td>1635791110</td>\n",
       "      <td>Computer Science and Engineering(Artificial In...</td>\n",
       "      <td>108140</td>\n",
       "      <td>63.824451</td>\n",
       "    </tr>\n",
       "    <tr>\n",
       "      <th>117733</th>\n",
       "      <td>16357</td>\n",
       "      <td>MES MUKUNDDAS LOHIA COLLEGE OF ENGINEERING</td>\n",
       "      <td>1635791110</td>\n",
       "      <td>Computer Science and Engineering(Artificial In...</td>\n",
       "      <td>183866</td>\n",
       "      <td>19.706116</td>\n",
       "    </tr>\n",
       "    <tr>\n",
       "      <th>117734</th>\n",
       "      <td>16357</td>\n",
       "      <td>MES MUKUNDDAS LOHIA COLLEGE OF ENGINEERING</td>\n",
       "      <td>1635791110</td>\n",
       "      <td>Computer Science and Engineering(Artificial In...</td>\n",
       "      <td>53687</td>\n",
       "      <td>83.902098</td>\n",
       "    </tr>\n",
       "    <tr>\n",
       "      <th>117735</th>\n",
       "      <td>16357</td>\n",
       "      <td>MES MUKUNDDAS LOHIA COLLEGE OF ENGINEERING</td>\n",
       "      <td>1635791110</td>\n",
       "      <td>Computer Science and Engineering(Artificial In...</td>\n",
       "      <td>162988</td>\n",
       "      <td>35.677183</td>\n",
       "    </tr>\n",
       "  </tbody>\n",
       "</table>\n",
       "<p>117736 rows × 6 columns</p>\n",
       "</div>"
      ],
      "text/plain": [
       "        College_Code                                 College_Name  \\\n",
       "0               1002  Government College of Engineering, Amravati   \n",
       "1               1002  Government College of Engineering, Amravati   \n",
       "2               1002  Government College of Engineering, Amravati   \n",
       "3               1002  Government College of Engineering, Amravati   \n",
       "4               1002  Government College of Engineering, Amravati   \n",
       "...              ...                                          ...   \n",
       "117731         16357   MES MUKUNDDAS LOHIA COLLEGE OF ENGINEERING   \n",
       "117732         16357   MES MUKUNDDAS LOHIA COLLEGE OF ENGINEERING   \n",
       "117733         16357   MES MUKUNDDAS LOHIA COLLEGE OF ENGINEERING   \n",
       "117734         16357   MES MUKUNDDAS LOHIA COLLEGE OF ENGINEERING   \n",
       "117735         16357   MES MUKUNDDAS LOHIA COLLEGE OF ENGINEERING   \n",
       "\n",
       "        Branch_Code                                        Branch_Name  \\\n",
       "0         100219110                                  Civil Engineering   \n",
       "1         100219110                                  Civil Engineering   \n",
       "2         100219110                                  Civil Engineering   \n",
       "3         100219110                                  Civil Engineering   \n",
       "4         100219110                                  Civil Engineering   \n",
       "...             ...                                                ...   \n",
       "117731   1635791110  Computer Science and Engineering(Artificial In...   \n",
       "117732   1635791110  Computer Science and Engineering(Artificial In...   \n",
       "117733   1635791110  Computer Science and Engineering(Artificial In...   \n",
       "117734   1635791110  Computer Science and Engineering(Artificial In...   \n",
       "117735   1635791110  Computer Science and Engineering(Artificial In...   \n",
       "\n",
       "        Cutoff_Merit_No  Cutoff_Percentile  \n",
       "0                 39713          88.248475  \n",
       "1                 41066          87.915931  \n",
       "2                 49772          85.113912  \n",
       "3                 44576          86.682749  \n",
       "4                 70376          78.434257  \n",
       "...                 ...                ...  \n",
       "117731           126756          55.492299  \n",
       "117732           108140          63.824451  \n",
       "117733           183866          19.706116  \n",
       "117734            53687          83.902098  \n",
       "117735           162988          35.677183  \n",
       "\n",
       "[117736 rows x 6 columns]"
      ]
     },
     "execution_count": 4,
     "metadata": {},
     "output_type": "execute_result"
    }
   ],
   "source": [
    "df"
   ]
  },
  {
   "cell_type": "code",
   "execution_count": 6,
   "id": "2fa3dc9c-610d-44b1-a1c5-7773ca32a6a2",
   "metadata": {},
   "outputs": [
    {
     "name": "stdout",
     "output_type": "stream",
     "text": [
      "Index(['College_Code', 'College_Name', 'Branch_Code', 'Branch_Name',\n",
      "       'Cutoff_Merit_No', 'Cutoff_Percentile'],\n",
      "      dtype='object')\n"
     ]
    }
   ],
   "source": [
    "print(df.columns)\n"
   ]
  },
  {
   "cell_type": "code",
   "execution_count": 7,
   "id": "39dc3087",
   "metadata": {},
   "outputs": [
    {
     "data": {
      "text/plain": [
       "College_Code         0\n",
       "College_Name         0\n",
       "Branch_Code          0\n",
       "Branch_Name          0\n",
       "Cutoff_Merit_No      0\n",
       "Cutoff_Percentile    0\n",
       "dtype: int64"
      ]
     },
     "execution_count": 7,
     "metadata": {},
     "output_type": "execute_result"
    }
   ],
   "source": [
    "df.isnull().sum()"
   ]
  }
 ],
 "metadata": {
  "kernelspec": {
   "display_name": "base",
   "language": "python",
   "name": "python3"
  },
  "language_info": {
   "codemirror_mode": {
    "name": "ipython",
    "version": 3
   },
   "file_extension": ".py",
   "mimetype": "text/x-python",
   "name": "python",
   "nbconvert_exporter": "python",
   "pygments_lexer": "ipython3",
   "version": "3.13.5"
  }
 },
 "nbformat": 4,
 "nbformat_minor": 5
}
