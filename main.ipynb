{
 "cells": [
  {
   "cell_type": "code",
   "execution_count": 10,
   "id": "112d9f96-b36e-4d23-bccd-8560c7ee172c",
   "metadata": {},
   "outputs": [],
   "source": [
    "import pandas as pd \n",
    "import numpy as np \n",
    "import seaborn as sns \n",
    "import matplotlib.pyplot as plt \n"
   ]
  },
  {
   "cell_type": "code",
   "execution_count": 16,
   "id": "b5a5e8f4-426d-478f-b718-6e4eb8b8de5a",
   "metadata": {},
   "outputs": [],
   "source": [
    "df = pd.read_csv(\"./final_dataset/Colleges_final_data_1.csv\")"
   ]
  },
  {
   "cell_type": "code",
   "execution_count": 20,
   "id": "2fa3dc9c-610d-44b1-a1c5-7773ca32a6a2",
   "metadata": {},
   "outputs": [
    {
     "data": {
      "text/html": [
       "<div>\n",
       "<style scoped>\n",
       "    .dataframe tbody tr th:only-of-type {\n",
       "        vertical-align: middle;\n",
       "    }\n",
       "\n",
       "    .dataframe tbody tr th {\n",
       "        vertical-align: top;\n",
       "    }\n",
       "\n",
       "    .dataframe thead th {\n",
       "        text-align: right;\n",
       "    }\n",
       "</style>\n",
       "<table border=\"1\" class=\"dataframe\">\n",
       "  <thead>\n",
       "    <tr style=\"text-align: right;\">\n",
       "      <th></th>\n",
       "      <th>College_Code</th>\n",
       "      <th>College_Name</th>\n",
       "      <th>Branch_Code</th>\n",
       "      <th>Branch_Name</th>\n",
       "      <th>Cutoff_Merit_No</th>\n",
       "      <th>Cutoff_Percentile</th>\n",
       "    </tr>\n",
       "  </thead>\n",
       "  <tbody>\n",
       "    <tr>\n",
       "      <th>0</th>\n",
       "      <td>1002</td>\n",
       "      <td>Government College of Engineering, Amravati</td>\n",
       "      <td>100219110</td>\n",
       "      <td>Civil Engineering</td>\n",
       "      <td>39713</td>\n",
       "      <td>88.248475</td>\n",
       "    </tr>\n",
       "    <tr>\n",
       "      <th>1</th>\n",
       "      <td>1002</td>\n",
       "      <td>Government College of Engineering, Amravati</td>\n",
       "      <td>100219110</td>\n",
       "      <td>Civil Engineering</td>\n",
       "      <td>41066</td>\n",
       "      <td>87.915931</td>\n",
       "    </tr>\n",
       "    <tr>\n",
       "      <th>2</th>\n",
       "      <td>1002</td>\n",
       "      <td>Government College of Engineering, Amravati</td>\n",
       "      <td>100219110</td>\n",
       "      <td>Civil Engineering</td>\n",
       "      <td>49772</td>\n",
       "      <td>85.113912</td>\n",
       "    </tr>\n",
       "    <tr>\n",
       "      <th>3</th>\n",
       "      <td>1002</td>\n",
       "      <td>Government College of Engineering, Amravati</td>\n",
       "      <td>100219110</td>\n",
       "      <td>Civil Engineering</td>\n",
       "      <td>44576</td>\n",
       "      <td>86.682749</td>\n",
       "    </tr>\n",
       "    <tr>\n",
       "      <th>4</th>\n",
       "      <td>1002</td>\n",
       "      <td>Government College of Engineering, Amravati</td>\n",
       "      <td>100219110</td>\n",
       "      <td>Civil Engineering</td>\n",
       "      <td>70376</td>\n",
       "      <td>78.434257</td>\n",
       "    </tr>\n",
       "  </tbody>\n",
       "</table>\n",
       "</div>"
      ],
      "text/plain": [
       "   College_Code                                 College_Name  Branch_Code  \\\n",
       "0          1002  Government College of Engineering, Amravati    100219110   \n",
       "1          1002  Government College of Engineering, Amravati    100219110   \n",
       "2          1002  Government College of Engineering, Amravati    100219110   \n",
       "3          1002  Government College of Engineering, Amravati    100219110   \n",
       "4          1002  Government College of Engineering, Amravati    100219110   \n",
       "\n",
       "         Branch_Name  Cutoff_Merit_No  Cutoff_Percentile  \n",
       "0  Civil Engineering            39713          88.248475  \n",
       "1  Civil Engineering            41066          87.915931  \n",
       "2  Civil Engineering            49772          85.113912  \n",
       "3  Civil Engineering            44576          86.682749  \n",
       "4  Civil Engineering            70376          78.434257  "
      ]
     },
     "execution_count": 20,
     "metadata": {},
     "output_type": "execute_result"
    }
   ],
   "source": [
    "df.head()"
   ]
  },
  {
   "cell_type": "code",
   "execution_count": 22,
   "id": "948cbe10",
   "metadata": {},
   "outputs": [
    {
     "name": "stdout",
     "output_type": "stream",
     "text": [
      "Index(['College_Code', 'College_Name', 'Branch_Code', 'Branch_Name',\n",
      "       'Cutoff_Merit_No', 'Cutoff_Percentile'],\n",
      "      dtype='object')\n"
     ]
    }
   ],
   "source": [
    "print(df.columns)"
   ]
  },
  {
   "cell_type": "code",
   "execution_count": 23,
   "id": "bfdd89df",
   "metadata": {},
   "outputs": [
    {
     "data": {
      "text/plain": [
       "College_Code         0\n",
       "College_Name         0\n",
       "Branch_Code          0\n",
       "Branch_Name          0\n",
       "Cutoff_Merit_No      0\n",
       "Cutoff_Percentile    0\n",
       "dtype: int64"
      ]
     },
     "execution_count": 23,
     "metadata": {},
     "output_type": "execute_result"
    }
   ],
   "source": [
    "df.isnull().sum()"
   ]
  }
 ],
 "metadata": {
  "kernelspec": {
   "display_name": "base",
   "language": "python",
   "name": "python3"
  },
  "language_info": {
   "codemirror_mode": {
    "name": "ipython",
    "version": 3
   },
   "file_extension": ".py",
   "mimetype": "text/x-python",
   "name": "python",
   "nbconvert_exporter": "python",
   "pygments_lexer": "ipython3",
   "version": "3.13.5"
  }
 },
 "nbformat": 4,
 "nbformat_minor": 5
}
